{
 "cells": [
  {
   "cell_type": "code",
   "execution_count": 6,
   "metadata": {},
   "outputs": [],
   "source": [
    "\n",
    "from selenium.webdriver.support.ui import WebDriverWait\n",
    "import time\n",
    "import webbrowser\n",
    "import re\n",
    "import csv\n",
    "from csv import writer\n",
    "from random import random\n",
    "import requests\n",
    "from bs4 import BeautifulSoup\n",
    "import pandas as pd\n",
    "from selenium.webdriver.support import expected_conditions as EC\n",
    "from selenium import webdriver\n",
    "from selenium.webdriver import ActionChains\n",
    "from selenium.webdriver.common.keys import Keys\n",
    "import re"
   ]
  },
  {
   "cell_type": "code",
   "execution_count": 7,
   "metadata": {},
   "outputs": [],
   "source": [
    "def append_list_as_row(file_name, list_of_elem):\n",
    "                # Open file in append mode\n",
    "                    with open(file_name, 'a+', newline='') as write_obj:\n",
    "                        # Create a writer object from csv module\n",
    "                        csv_writer = writer(write_obj)\n",
    "                        # Add contents of list as last row in the csv file\n",
    "                        csv_writer.writerow(list_of_elem)\n",
    "                        "
   ]
  },
  {
   "cell_type": "code",
   "execution_count": 8,
   "metadata": {},
   "outputs": [],
   "source": [
    "header=[\"questions\",\"option 1\",\"option 2\",\"option 3\",\"option 4\"]\n",
    "append_list_as_row('students.csv', header)"
   ]
  },
  {
   "cell_type": "code",
   "execution_count": 9,
   "metadata": {},
   "outputs": [],
   "source": [
    "links=[]  \n",
    "response = requests.get(\"https://www.gkseries.com/general-knowledge/geography/geo-tectonics/geography-mcqs\", headers={'User-Agent': 'Mozilla/5.0'})\n",
    "html = response.content\n",
    "soup = BeautifulSoup(html, 'html.parser')              \n",
    "p=soup.find(class_=\"pagination\")\n",
    "f_half=\"https://www.gkseries.com/general-knowledge/geography/geo-tectonics/\"\n",
    "page_list=p.find_all(\"a\")\n",
    "for l in page_list[:-1]:\n",
    "    link=str(l.get(\"href\"))\n",
    "    full_link=f_half+link\n",
    "    links.append(full_link)"
   ]
  },
  {
   "cell_type": "code",
   "execution_count": 10,
   "metadata": {},
   "outputs": [],
   "source": [
    "for i in links:\n",
    "    response = requests.get(i, headers={'User-Agent': 'Mozilla/5.0'})\n",
    "    html = response.content\n",
    "    soup = BeautifulSoup(html, 'html.parser')\n",
    "    #getting the questions\n",
    "    name = soup.find(class_=\"question-content clearfix\")\n",
    "    questions=soup.find_all(\"div\", {\"class\":\"question-content clearfix\"})\n",
    "    #all_questions=[]\n",
    "    if not questions:\n",
    "        pass\n",
    "    else:\n",
    "        top=soup.find_all(\"div\", {\"class\":\"col-lg-8 all-col\"})\n",
    "        for t in top:\n",
    "            new=t.find_all(\"div\", {\"class\":\"mcq\"})\n",
    "            op=t.find_all(\"div\", {\"class\":\"options\"})\n",
    "            for n in new:\n",
    "                new1=n.find_all(\"div\", {\"class\":\"question-content clearfix\"})\n",
    "                new2=n.find_all(\"div\", {\"class\":\"options\"})\n",
    "                #new1.get_text()\n",
    "                all_questions=[]\n",
    "                for m in new1:\n",
    "                    s=m.get_text()\n",
    "                    regex = re.compile(r'[\\n\\r\\t]')\n",
    "                    s = regex.sub(\" \", s)\n",
    "                    ques=s[11:]\n",
    "                    all_questions.append(ques)\n",
    "                    opts=n.find_all(\"div\", {\"class\":\"col-md-12 option\"})\n",
    "                    all_options=[]\n",
    "                    for o in opts:\n",
    "                        l=o.get_text()\n",
    "                        option=l[4:]\n",
    "                        all_options.append(option)\n",
    "                    #print(all_questions)\n",
    "                    #print(all_options)\n",
    "                    all_row=all_questions+all_options\n",
    "                    append_list_as_row('students.csv', all_row)\n",
    "        "
   ]
  }
 ],
 "metadata": {
  "kernelspec": {
   "display_name": "Python 3",
   "language": "python",
   "name": "python3"
  },
  "language_info": {
   "codemirror_mode": {
    "name": "ipython",
    "version": 3
   },
   "file_extension": ".py",
   "mimetype": "text/x-python",
   "name": "python",
   "nbconvert_exporter": "python",
   "pygments_lexer": "ipython3",
   "version": "3.7.3"
  }
 },
 "nbformat": 4,
 "nbformat_minor": 2
}
